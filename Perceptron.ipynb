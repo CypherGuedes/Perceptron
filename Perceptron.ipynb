{
  "nbformat": 4,
  "nbformat_minor": 0,
  "metadata": {
    "colab": {
      "provenance": [],
      "authorship_tag": "ABX9TyMf3ulxmGovg0liKk3lrkhN",
      "include_colab_link": true
    },
    "kernelspec": {
      "name": "python3",
      "display_name": "Python 3"
    },
    "language_info": {
      "name": "python"
    }
  },
  "cells": [
    {
      "cell_type": "markdown",
      "metadata": {
        "id": "view-in-github",
        "colab_type": "text"
      },
      "source": [
        "<a href=\"https://colab.research.google.com/github/CypherGuedes/Perceptron/blob/Atividade-1/Perceptron.ipynb\" target=\"_parent\"><img src=\"https://colab.research.google.com/assets/colab-badge.svg\" alt=\"Open In Colab\"/></a>"
      ]
    },
    {
      "cell_type": "code",
      "execution_count": 16,
      "metadata": {
        "id": "ybNX68eYv9RU"
      },
      "outputs": [],
      "source": [
        "import numpy as np\n",
        "import matplotlib.pyplot as plt\n",
        "\n",
        "class Perceptron(object):\n",
        "\n",
        "    def __init__(self, alpha=0.1, epochs=10):\n",
        "        np.random.seed(1)  # Inicializando a semente para reprodução dos testes\n",
        "        self.alpha = alpha  # alpha é a nossa taxa de aprendizado\n",
        "        self.epochs = epochs\n",
        "        self.weights = None\n",
        "        self.bias = None\n",
        "\n",
        "    def fit(self, X, Y):\n",
        "        n_samples, n_features = X.shape\n",
        "        # Inicialize os Pesos e Bias com valores aleatórios entre -1 e 1 (Atividade 1)\n",
        "        self.weights = np.random.uniform(-1, 1, n_features)\n",
        "        self.bias = np.random.uniform(-1, 1)"
      ]
    }
  ]
}