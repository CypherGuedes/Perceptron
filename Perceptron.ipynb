{
  "nbformat": 4,
  "nbformat_minor": 0,
  "metadata": {
    "colab": {
      "provenance": [],
      "authorship_tag": "ABX9TyO4gzytVhBjvItoHLNebDqR",
      "include_colab_link": true
    },
    "kernelspec": {
      "name": "python3",
      "display_name": "Python 3"
    },
    "language_info": {
      "name": "python"
    }
  },
  "cells": [
    {
      "cell_type": "markdown",
      "metadata": {
        "id": "view-in-github",
        "colab_type": "text"
      },
      "source": [
        "<a href=\"https://colab.research.google.com/github/CypherGuedes/Perceptron/blob/Atividade-3/Perceptron.ipynb\" target=\"_parent\"><img src=\"https://colab.research.google.com/assets/colab-badge.svg\" alt=\"Open In Colab\"/></a>"
      ]
    },
    {
      "cell_type": "code",
      "execution_count": 17,
      "metadata": {
        "id": "ybNX68eYv9RU"
      },
      "outputs": [],
      "source": [
        "import numpy as np\n",
        "import matplotlib.pyplot as plt\n",
        "\n",
        "class Perceptron(object):\n",
        "\n",
        "    def __init__(self, alpha=0.1, epochs=10):\n",
        "        np.random.seed(1)  # Inicializando a semente para reprodução dos testes\n",
        "        self.alpha = alpha  # alpha é a nossa taxa de aprendizado\n",
        "        self.epochs = epochs\n",
        "        self.weights = None\n",
        "        self.bias = None\n",
        "\n",
        "    def fit(self, X, Y):\n",
        "        n_samples, n_features = X.shape\n",
        "        # Inicialize os Pesos e Bias com valores aleatórios entre -1 e 1 (Atividade 1)\n",
        "        self.weights = np.random.uniform(-1, 1, n_features)\n",
        "        self.bias = np.random.uniform(-1, 1)\n",
        "\n",
        "        for epoch in range(self.epochs):\n",
        "            for x_i, y_esperado in zip(X, Y):\n",
        "                # Calcule o output do perceptron, o erro e atualize pesos e bias (Atividade 2)\n",
        "                output = self.predict(x_i)\n",
        "                erro = y_esperado - output\n",
        "                self.weights += self.alpha * erro * x_i\n",
        "                self.bias += self.alpha * erro\n",
        "\n",
        "    def predict(self, X):\n",
        "        # Calcule o output do perceptron usando a função de ativação (Atividade 3)\n",
        "        linear_output = np.dot(X, self.weights) + self.bias\n",
        "        return self.activation(linear_output)\n",
        "\n",
        "    def activation(self, signal):\n",
        "        return np.where(signal >= 0, 1, 0)  # Função degrau de ativação"
      ]
    }
  ]
}