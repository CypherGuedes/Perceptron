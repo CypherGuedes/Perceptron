{
  "nbformat": 4,
  "nbformat_minor": 0,
  "metadata": {
    "colab": {
      "provenance": [],
      "authorship_tag": "ABX9TyNlZst+Q2RJy8910Fng9Kgb",
      "include_colab_link": true
    },
    "kernelspec": {
      "name": "python3",
      "display_name": "Python 3"
    },
    "language_info": {
      "name": "python"
    }
  },
  "cells": [
    {
      "cell_type": "markdown",
      "metadata": {
        "id": "view-in-github",
        "colab_type": "text"
      },
      "source": [
        "<a href=\"https://colab.research.google.com/github/CypherGuedes/Perceptron/blob/Atividade-4/Perceptron.ipynb\" target=\"_parent\"><img src=\"https://colab.research.google.com/assets/colab-badge.svg\" alt=\"Open In Colab\"/></a>"
      ]
    },
    {
      "cell_type": "code",
      "execution_count": 19,
      "metadata": {
        "id": "ybNX68eYv9RU"
      },
      "outputs": [],
      "source": [
        "import numpy as np\n",
        "import matplotlib.pyplot as plt\n",
        "\n",
        "class Perceptron(object):\n",
        "\n",
        "    def __init__(self, alpha=0.1, epochs=10):\n",
        "        np.random.seed(1)  # Inicializando a semente para reprodução dos testes\n",
        "        self.alpha = alpha  # alpha é a nossa taxa de aprendizado\n",
        "        self.epochs = epochs\n",
        "        self.weights = None\n",
        "        self.bias = None\n",
        "\n",
        "    def fit(self, X, Y):  # Inicialize os Pesos e Bias com valores aleatórios entre -1 e 1 (Atividade 1)\n",
        "        n_samples, n_features = X.shape\n",
        "        self.weights = np.random.uniform(-1, 1, n_features)\n",
        "        self.bias = np.random.uniform(-1, 1)\n",
        "\n",
        "        for epoch in range(self.epochs):  # Calcule o output do perceptron, o erro e atualize pesos e bias (Atividade 2)\n",
        "            for x_i, y_esperado in zip(X, Y):\n",
        "                output = self.predict(x_i)\n",
        "                erro = y_esperado - output\n",
        "                self.weights += self.alpha * erro * x_i\n",
        "                self.bias += self.alpha * erro\n",
        "\n",
        "    def predict(self, X): # Calcule o output do perceptron usando a função de ativação (Atividade 3)\n",
        "        linear_output = np.dot(X, self.weights) + self.bias\n",
        "        return self.activation(linear_output)\n",
        "\n",
        "    def activation(self, signal): # Função degrau de ativação\n",
        "        return np.where(signal >= 0, 1, 0)\n",
        "\n",
        "\n",
        "    def accuracy(y_true, y_pred): # Crie uma função simples para calcular acurácia (Atividade 4)\n",
        "        total_samples = len(y_true)\n",
        "        correct_predictions = 0\n",
        "\n",
        "        for true, pred in zip(y_true, y_pred):\n",
        "            if true == pred:\n",
        "                correct_predictions += 1\n",
        "\n",
        "        accuracy = correct_predictions / total_samples\n",
        "        return accuracy"
      ]
    }
  ]
}